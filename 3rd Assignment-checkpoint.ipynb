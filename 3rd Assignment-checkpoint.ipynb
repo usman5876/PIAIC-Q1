{
 "cells": [
  {
   "cell_type": "code",
   "execution_count": null,
   "metadata": {},
   "outputs": [],
   "source": [
    "students=[]\n",
    "skil=[]\n",
    "degre={\"title\" : \"\", \"major\" : \"\", \"completionDate\" : \"\"}\n",
    "studentData = {\"name\" : \"\",\n",
    "     \"age\"  : 0,\n",
    "     \"work\" : \"\",\n",
    "     \"skills\" : [],\n",
    "     \"degree\" : {},\n",
    "     \"salary\" : 0\n",
    "     }"
   ]
  },
  {
   "cell_type": "code",
   "execution_count": null,
   "metadata": {},
   "outputs": [],
   "source": [
    "t=int(input(\"How many Students data you want enter: \"))\n",
    "for u in range(1,t+1):\n",
    "    for a in studentData:\n",
    "        if a == \"skills\":\n",
    "            x=int(input(\"How many skills you want to enter\"))\n",
    "            for b in range(x): \n",
    "                skil.append(input(\"Enter your skills\"))\n",
    "                studentData[a]=skil\n",
    "            \n",
    "        elif a == \"degree\":\n",
    "            for i in degre:\n",
    "                degre[i]=(input(\"Enter your degree details\"))\n",
    "                studentData[a]=degre\n",
    "        else:\n",
    "             studentData[a]=input(\"value\")\n",
    "    students.append(studentData)"
   ]
  },
  {
   "cell_type": "code",
   "execution_count": null,
   "metadata": {},
   "outputs": [],
   "source": [
    "studentData"
   ]
  },
  {
   "cell_type": "code",
   "execution_count": null,
   "metadata": {},
   "outputs": [],
   "source": [
    "students"
   ]
  },
  {
   "cell_type": "markdown",
   "metadata": {},
   "source": [
    "# Tabel in Step by step window\n"
   ]
  },
  {
   "cell_type": "code",
   "execution_count": null,
   "metadata": {},
   "outputs": [],
   "source": [
    "print(\"Enter range of two numbers between you want tabels: \")\n",
    "d=int(input(\"Enter 1st number: \"))\n",
    "e=int(input(\"Enter 2nd number: \"))\n",
    "x=10\n",
    "if d<e:\n",
    "    for a in range(d,e+1):\n",
    "        for b in range(1,x+1):\n",
    "            print(a,\"*\",b,\"=\",a*b)\n",
    "        print(\"\\n\")\n",
    "else:\n",
    "    print(\"Your 2nd number is lesser than first...\\nPlease enter valid number\")"
   ]
  },
  {
   "cell_type": "markdown",
   "metadata": {},
   "source": [
    "# Tabel in same window"
   ]
  },
  {
   "cell_type": "code",
   "execution_count": null,
   "metadata": {},
   "outputs": [],
   "source": [
    "print(\"Enter range of two numbers between you want tabels: \")\n",
    "d=int(input(\"Enter 1st number: \"))\n",
    "e=int(input(\"Enter 2nd number: \"))\n",
    "x=10\n",
    "h=0\n",
    "if d<e:\n",
    "    for f in range (1,11):\n",
    "        h +=1\n",
    "        for a in range(d,e+1):\n",
    "            for b in range(h,f+1):\n",
    "                print(a,\"*\",b,\"=\",a*b,end=\"\\t\")\n",
    "        print(end=\"\\n\")\n",
    "        \n",
    "else:\n",
    "    print(\"Your 2nd number is lesser than first...\\nPlease enter valid number\")"
   ]
  },
  {
   "cell_type": "code",
   "execution_count": null,
   "metadata": {},
   "outputs": [],
   "source": []
  }
 ],
 "metadata": {
  "kernelspec": {
   "display_name": "Python 3",
   "language": "python",
   "name": "python3"
  },
  "language_info": {
   "codemirror_mode": {
    "name": "ipython",
    "version": 3
   },
   "file_extension": ".py",
   "mimetype": "text/x-python",
   "name": "python",
   "nbconvert_exporter": "python",
   "pygments_lexer": "ipython3",
   "version": "3.7.4"
  }
 },
 "nbformat": 4,
 "nbformat_minor": 2
}
