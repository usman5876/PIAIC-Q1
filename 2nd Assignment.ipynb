{
 "cells": [
  {
   "cell_type": "markdown",
   "metadata": {},
   "source": [
    "# Example 1"
   ]
  },
  {
   "cell_type": "code",
   "execution_count": 1,
   "metadata": {},
   "outputs": [],
   "source": [
    "employee_data = ['Ali', 125000, 'Google', 5]"
   ]
  },
  {
   "cell_type": "code",
   "execution_count": 2,
   "metadata": {},
   "outputs": [
    {
     "name": "stdout",
     "output_type": "stream",
     "text": [
      "Ali is working in Google for 5 years and his salary is 125000\n"
     ]
    }
   ],
   "source": [
    "print(employee_data[0],\"is working in\",employee_data[2],\"for\",employee_data[3],\"years and his salary is\",employee_data[1])"
   ]
  },
  {
   "cell_type": "markdown",
   "metadata": {},
   "source": [
    "# Example 2"
   ]
  },
  {
   "cell_type": "code",
   "execution_count": 3,
   "metadata": {},
   "outputs": [],
   "source": [
    "studentData = ['Ahmed', 'Bilal', 'Government College University', 'Computer Science', 'BS', 50000,\n",
    "               '28 Januray 2020', '05 February 2020']"
   ]
  },
  {
   "cell_type": "code",
   "execution_count": 4,
   "metadata": {},
   "outputs": [
    {
     "name": "stdout",
     "output_type": "stream",
     "text": [
      "Hello Ahmed Bilal, \n",
      "Your application is accepted for admission in BS Computer Science in Government College University. \n",
      "You have to submit fee 50000 before 28 Januray 2020. \n",
      "Your classes will start from 05 February 2020. \n",
      "Thanks\n"
     ]
    }
   ],
   "source": [
    "print('Hello',studentData[0],studentData[1]+',',\n",
    "\"\\nYour application is accepted for admission in\",studentData[4],studentData[3],\"in\",studentData[2]+'.',\n",
    "\"\\nYou have to submit fee\",studentData[-3],\"before\",studentData[-2]+'.',\n",
    "\"\\nYour classes will start from\",studentData[-1]+'.',\n",
    "'\\nThanks')"
   ]
  },
  {
   "cell_type": "markdown",
   "metadata": {},
   "source": [
    "# Example 3"
   ]
  },
  {
   "cell_type": "code",
   "execution_count": 5,
   "metadata": {},
   "outputs": [],
   "source": [
    "cities = [\"Faisalabad\", \"Lahore\", \"Islamabad\", \"Peshawar\", \"Quetta\", \"Sahiwal\", \"Rawalpindi\", \"Sialkot\"]"
   ]
  },
  {
   "cell_type": "code",
   "execution_count": 6,
   "metadata": {},
   "outputs": [
    {
     "name": "stdout",
     "output_type": "stream",
     "text": [
      "['Faisalabad', 'Lahore', 'Islamabad', 'Peshawar']\n",
      "['Islamabad', 'Peshawar', 'Quetta', 'Sahiwal']\n",
      "['Sahiwal', 'Rawalpindi', 'Sialkot']\n"
     ]
    }
   ],
   "source": [
    "print(cities[:4])\n",
    "print(cities[2:6])\n",
    "print(cities[5:])"
   ]
  },
  {
   "cell_type": "code",
   "execution_count": 7,
   "metadata": {},
   "outputs": [
    {
     "name": "stdout",
     "output_type": "stream",
     "text": [
      "['Quetta', 'Sahiwal', 'Rawalpindi']\n",
      "['Peshawar', 'Quetta', 'Sahiwal', 'Rawalpindi', 'Sialkot']\n"
     ]
    }
   ],
   "source": [
    "print(cities[-4:-1])\n",
    "print(cities[-5:])"
   ]
  },
  {
   "cell_type": "markdown",
   "metadata": {},
   "source": [
    "# Example 4"
   ]
  },
  {
   "cell_type": "code",
   "execution_count": 8,
   "metadata": {},
   "outputs": [],
   "source": [
    "studentData2 = [\"Ali Raza\", 22, 91.24, \"Computer Science\", 5, \"University of Agriculture\"]"
   ]
  },
  {
   "cell_type": "code",
   "execution_count": 9,
   "metadata": {},
   "outputs": [],
   "source": [
    "studentData2.append('20 February 2019')\n",
    "studentData2.append(8)"
   ]
  },
  {
   "cell_type": "code",
   "execution_count": 10,
   "metadata": {},
   "outputs": [
    {
     "data": {
      "text/plain": [
       "['Ali Raza',\n",
       " 22,\n",
       " 91.24,\n",
       " 'Computer Science',\n",
       " 5,\n",
       " 'University of Agriculture',\n",
       " '20 February 2019',\n",
       " 8]"
      ]
     },
     "execution_count": 10,
     "metadata": {},
     "output_type": "execute_result"
    }
   ],
   "source": [
    "studentData2"
   ]
  },
  {
   "cell_type": "code",
   "execution_count": 11,
   "metadata": {},
   "outputs": [],
   "source": [
    "studentData2.insert(4,25000)\n",
    "studentData2.insert(1,'M.Iqbal')"
   ]
  },
  {
   "cell_type": "code",
   "execution_count": 12,
   "metadata": {},
   "outputs": [
    {
     "data": {
      "text/plain": [
       "['Ali Raza',\n",
       " 'M.Iqbal',\n",
       " 22,\n",
       " 91.24,\n",
       " 'Computer Science',\n",
       " 25000,\n",
       " 5,\n",
       " 'University of Agriculture',\n",
       " '20 February 2019',\n",
       " 8]"
      ]
     },
     "execution_count": 12,
     "metadata": {},
     "output_type": "execute_result"
    }
   ],
   "source": [
    "studentData2"
   ]
  },
  {
   "cell_type": "code",
   "execution_count": 13,
   "metadata": {},
   "outputs": [],
   "source": [
    "studentData2[0] = \"Zohaib Ali\"\n",
    "studentData2[6] = 7"
   ]
  },
  {
   "cell_type": "code",
   "execution_count": 14,
   "metadata": {},
   "outputs": [
    {
     "data": {
      "text/plain": [
       "['Zohaib Ali',\n",
       " 'M.Iqbal',\n",
       " 22,\n",
       " 91.24,\n",
       " 'Computer Science',\n",
       " 25000,\n",
       " 7,\n",
       " 'University of Agriculture',\n",
       " '20 February 2019',\n",
       " 8]"
      ]
     },
     "execution_count": 14,
     "metadata": {},
     "output_type": "execute_result"
    }
   ],
   "source": [
    "studentData2"
   ]
  },
  {
   "cell_type": "code",
   "execution_count": 15,
   "metadata": {},
   "outputs": [],
   "source": [
    "studentData2.remove(\"Computer Science\")\n",
    "studentData2.remove(91.24)"
   ]
  },
  {
   "cell_type": "code",
   "execution_count": 16,
   "metadata": {},
   "outputs": [
    {
     "data": {
      "text/plain": [
       "['Zohaib Ali',\n",
       " 'M.Iqbal',\n",
       " 22,\n",
       " 25000,\n",
       " 7,\n",
       " 'University of Agriculture',\n",
       " '20 February 2019',\n",
       " 8]"
      ]
     },
     "execution_count": 16,
     "metadata": {},
     "output_type": "execute_result"
    }
   ],
   "source": [
    "studentData2"
   ]
  },
  {
   "cell_type": "code",
   "execution_count": 17,
   "metadata": {},
   "outputs": [],
   "source": [
    "abc=[]\n",
    "abc.append(studentData2.pop(-1))\n",
    "abc.append(studentData2.pop(3))"
   ]
  },
  {
   "cell_type": "code",
   "execution_count": 18,
   "metadata": {},
   "outputs": [
    {
     "name": "stdout",
     "output_type": "stream",
     "text": [
      "['Zohaib Ali', 'M.Iqbal', 22, 7, 'University of Agriculture', '20 February 2019']\n",
      "[8, 25000]\n"
     ]
    }
   ],
   "source": [
    "print(studentData2)\n",
    "print(abc)"
   ]
  },
  {
   "cell_type": "markdown",
   "metadata": {},
   "source": [
    "# Example 5"
   ]
  },
  {
   "cell_type": "code",
   "execution_count": 19,
   "metadata": {},
   "outputs": [],
   "source": [
    "employeeData = [[\"Ali\", 35000, \"Software Engineer\"],\n",
    "                [\"Talha\", 55000, \"Product Manager\"],\n",
    "                [\"Nasir\", 79000, \"Computer Engineer\"],\n",
    "                [\"Khalid\", 44000, \"DBA\"]]"
   ]
  },
  {
   "cell_type": "code",
   "execution_count": 22,
   "metadata": {},
   "outputs": [],
   "source": [
    "gsalary=[]\n",
    "total_salary=0\n",
    "for a in employeeData:\n",
    "    salary = a[1]\n",
    "    total_salary +=salary\n",
    "    if salary>50000:\n",
    "        gsalary.append(salary)\n",
    "        "
   ]
  },
  {
   "cell_type": "code",
   "execution_count": 23,
   "metadata": {},
   "outputs": [
    {
     "name": "stdout",
     "output_type": "stream",
     "text": [
      "These are employees having salary greater than 50000:  [55000, 79000]\n"
     ]
    }
   ],
   "source": [
    "print(\"These are employees having salary greater than 50000: \",gsalary)"
   ]
  },
  {
   "cell_type": "code",
   "execution_count": 24,
   "metadata": {},
   "outputs": [
    {
     "name": "stdout",
     "output_type": "stream",
     "text": [
      "Total salary of Employess is: 213000\n"
     ]
    }
   ],
   "source": [
    "print(\"Total salary of Employess is:\",total_salary)"
   ]
  },
  {
   "cell_type": "code",
   "execution_count": 30,
   "metadata": {},
   "outputs": [],
   "source": [
    "employeeData[2][1] = 90000\n",
    "employeeData[2][2] = \"Product Manager\"\n",
    "employeeData[3][1] = 50000"
   ]
  },
  {
   "cell_type": "code",
   "execution_count": 31,
   "metadata": {},
   "outputs": [
    {
     "data": {
      "text/plain": [
       "[['Ali', 35000, 'Software Engineer'],\n",
       " ['Talha', 55000, 'Product Manager'],\n",
       " ['Nasir', 90000, 'Product Manager'],\n",
       " ['Khalid', 50000, 'DBA']]"
      ]
     },
     "execution_count": 31,
     "metadata": {},
     "output_type": "execute_result"
    }
   ],
   "source": [
    "employeeData"
   ]
  },
  {
   "cell_type": "markdown",
   "metadata": {},
   "source": [
    "# Example 6"
   ]
  },
  {
   "cell_type": "code",
   "execution_count": 37,
   "metadata": {},
   "outputs": [
    {
     "name": "stdout",
     "output_type": "stream",
     "text": [
      "Login Succeed\n"
     ]
    }
   ],
   "source": [
    "username = \"faizan1214\"\n",
    "password = \"qwerty\"\n",
    "emailVerified = True\n",
    "if username == \"faizan1214\" and password == \"qwerty\":\n",
    "    if emailVerified == True:\n",
    "        print(\"Login Succeed\")\n",
    "    else:\n",
    "        print(\"Email is not Varified\")\n",
    "else:\n",
    "    print(\"Incorrect Login Details\")"
   ]
  },
  {
   "cell_type": "code",
   "execution_count": null,
   "metadata": {},
   "outputs": [],
   "source": []
  }
 ],
 "metadata": {
  "kernelspec": {
   "display_name": "Python 3",
   "language": "python",
   "name": "python3"
  },
  "language_info": {
   "codemirror_mode": {
    "name": "ipython",
    "version": 3
   },
   "file_extension": ".py",
   "mimetype": "text/x-python",
   "name": "python",
   "nbconvert_exporter": "python",
   "pygments_lexer": "ipython3",
   "version": "3.7.4"
  }
 },
 "nbformat": 4,
 "nbformat_minor": 2
}
