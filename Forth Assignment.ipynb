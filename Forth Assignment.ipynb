{
 "cells": [
  {
   "cell_type": "markdown",
   "metadata": {},
   "source": [
    "# Area Calculator"
   ]
  },
  {
   "cell_type": "code",
   "execution_count": null,
   "metadata": {},
   "outputs": [],
   "source": [
    "def calcArea(radi):\n",
    "    pi = 3.14\n",
    "    print(pi*radi**2)"
   ]
  },
  {
   "cell_type": "code",
   "execution_count": null,
   "metadata": {},
   "outputs": [],
   "source": [
    "r=int(input(\"Enter Radius of Circle\"))\n",
    "calcArea(r)"
   ]
  },
  {
   "cell_type": "markdown",
   "metadata": {},
   "source": [
    "# Check value in list"
   ]
  },
  {
   "cell_type": "code",
   "execution_count": null,
   "metadata": {},
   "outputs": [],
   "source": [
    "data = [\"python\", \"r\", \"java\", \"pascal\", \"c\", \"javascript\", \"assembley\", \"html\", \"c++\"]\n",
    "\n",
    "def checkval(val):\n",
    "    for i in data:\n",
    "        if i==val:\n",
    "            print(\"value is found\")\n"
   ]
  },
  {
   "cell_type": "code",
   "execution_count": null,
   "metadata": {},
   "outputs": [],
   "source": [
    "vale=input(\"Enter value you want to check in list:\")\n",
    "checkval(vale)"
   ]
  },
  {
   "cell_type": "markdown",
   "metadata": {},
   "source": [
    "# Shift item funtion"
   ]
  },
  {
   "cell_type": "code",
   "execution_count": null,
   "metadata": {},
   "outputs": [],
   "source": [
    "data = [\"python\", \"r\", \"java\", \"pascal\", \"c\", \"javascript\", \"assembley\", \"html\", \"c++\"]\n",
    "def shiftItems(liss,val):\n",
    "    z=0\n",
    "    while z<val:\n",
    "        liss.insert(0,liss.pop(-1))\n",
    "        z +=1"
   ]
  },
  {
   "cell_type": "code",
   "execution_count": null,
   "metadata": {},
   "outputs": [],
   "source": [
    "v = int(input(\"How many number you want to shift value: \"))\n",
    "shiftItems(data,v)"
   ]
  },
  {
   "cell_type": "code",
   "execution_count": null,
   "metadata": {},
   "outputs": [],
   "source": [
    "data"
   ]
  },
  {
   "cell_type": "markdown",
   "metadata": {},
   "source": [
    "# Loop for user input"
   ]
  },
  {
   "cell_type": "code",
   "execution_count": null,
   "metadata": {},
   "outputs": [],
   "source": [
    "inp=input(\"If you want exit type quit otherwise N\")\n",
    "while inp!=\"quit\":\n",
    "    r=int(input(\"Enter Radius of the circle: \"))\n",
    "    calcArea(r)\n",
    "    inp=input(\"If you want exit type quit otherwise N\")"
   ]
  },
  {
   "cell_type": "markdown",
   "metadata": {},
   "source": [
    "#  **kwargs"
   ]
  },
  {
   "cell_type": "code",
   "execution_count": null,
   "metadata": {},
   "outputs": [],
   "source": [
    "def showDetails(name,clas,date,nextClass,**kwargs):\n",
    "    sm=0\n",
    "    lrg=0\n",
    "    sml=0\n",
    "    perc=0\n",
    "    for i,k in kwargs.items():\n",
    "        a=k\n",
    "        sm =sm + a\n",
    "        if lrg>=a:\n",
    "            lrg=a\n",
    "            lsub=i\n",
    "        elif sml>a:\n",
    "            sml=a\n",
    "            msub=i\n",
    "    perc=(sm/400)*100\n",
    "    form='''Hello {}\n",
    "    Here is your result for class of {}.\n",
    "    Your score card is as follows.\n",
    "    ClassMarks:\n",
    "        math : {}\n",
    "        physics : {}\n",
    "        biology : {}\n",
    "        computer : {}\n",
    "    Total marks are: {}\n",
    "    Percentage is as follows: {}%\n",
    "    Maximum marks are in \"{}\"\n",
    "    Minimum marks are in \"{}\"\n",
    "    You are promoted to next class.'''\n",
    "    form.format(name,clas,kwargs[0],kwargs[1],kwargs[2],kwargs[3],sm,perc,lsub,msub)\n",
    "    \n",
    "   "
   ]
  },
  {
   "cell_type": "code",
   "execution_count": null,
   "metadata": {},
   "outputs": [],
   "source": [
    "#showDetails(name = \"Ali\", clas = \"AI\", date = \"1 Feb 2020\", nextClass = True,marks = {\"math\" : 50, \"physics\" : 80, \"biology\" : 90, \"computer\" : 67})\n",
    "showDetails(\"Ali\",\"AI\",\"1 Feb 2020\",True,marks = {\"math\" : 50, \"physics\" : 80, \"biology\" : 90, \"computer\" : 67})"
   ]
  },
  {
   "cell_type": "code",
   "execution_count": 1,
   "metadata": {},
   "outputs": [],
   "source": [
    "def ahhd(e,t,**kwar):\n",
    "    a=0\n",
    "    sm=0 \n",
    "    for i,k in kwar.items():\n",
    "        sm =sm + k\n",
    "        print (sm)"
   ]
  },
  {
   "cell_type": "code",
   "execution_count": 2,
   "metadata": {},
   "outputs": [
    {
     "ename": "TypeError",
     "evalue": "unsupported operand type(s) for +: 'int' and 'dict'",
     "output_type": "error",
     "traceback": [
      "\u001b[1;31m---------------------------------------------------------------------------\u001b[0m",
      "\u001b[1;31mTypeError\u001b[0m                                 Traceback (most recent call last)",
      "\u001b[1;32m<ipython-input-2-538f4bf4e6a8>\u001b[0m in \u001b[0;36m<module>\u001b[1;34m\u001b[0m\n\u001b[1;32m----> 1\u001b[1;33m \u001b[0mahhd\u001b[0m\u001b[1;33m(\u001b[0m\u001b[1;36m2\u001b[0m\u001b[1;33m,\u001b[0m\u001b[1;36m4\u001b[0m\u001b[1;33m,\u001b[0m\u001b[0mq\u001b[0m\u001b[1;33m=\u001b[0m\u001b[1;33m{\u001b[0m\u001b[1;34m\"math\"\u001b[0m \u001b[1;33m:\u001b[0m \u001b[1;36m50\u001b[0m\u001b[1;33m,\u001b[0m \u001b[1;34m\"physics\"\u001b[0m \u001b[1;33m:\u001b[0m \u001b[1;36m80\u001b[0m\u001b[1;33m,\u001b[0m \u001b[1;34m\"biology\"\u001b[0m \u001b[1;33m:\u001b[0m \u001b[1;36m90\u001b[0m\u001b[1;33m,\u001b[0m \u001b[1;34m\"computer\"\u001b[0m \u001b[1;33m:\u001b[0m \u001b[1;36m67\u001b[0m\u001b[1;33m}\u001b[0m\u001b[1;33m)\u001b[0m\u001b[1;33m\u001b[0m\u001b[1;33m\u001b[0m\u001b[0m\n\u001b[0m",
      "\u001b[1;32m<ipython-input-1-3f2d166fa644>\u001b[0m in \u001b[0;36mahhd\u001b[1;34m(e, t, **kwar)\u001b[0m\n\u001b[0;32m      3\u001b[0m     \u001b[0msm\u001b[0m\u001b[1;33m=\u001b[0m\u001b[1;36m0\u001b[0m\u001b[1;33m\u001b[0m\u001b[1;33m\u001b[0m\u001b[0m\n\u001b[0;32m      4\u001b[0m     \u001b[1;32mfor\u001b[0m \u001b[0mi\u001b[0m\u001b[1;33m,\u001b[0m\u001b[0mk\u001b[0m \u001b[1;32min\u001b[0m \u001b[0mkwar\u001b[0m\u001b[1;33m.\u001b[0m\u001b[0mitems\u001b[0m\u001b[1;33m(\u001b[0m\u001b[1;33m)\u001b[0m\u001b[1;33m:\u001b[0m\u001b[1;33m\u001b[0m\u001b[1;33m\u001b[0m\u001b[0m\n\u001b[1;32m----> 5\u001b[1;33m         \u001b[0msm\u001b[0m \u001b[1;33m=\u001b[0m\u001b[0msm\u001b[0m \u001b[1;33m+\u001b[0m \u001b[0mk\u001b[0m\u001b[1;33m\u001b[0m\u001b[1;33m\u001b[0m\u001b[0m\n\u001b[0m\u001b[0;32m      6\u001b[0m         \u001b[0mprint\u001b[0m \u001b[1;33m(\u001b[0m\u001b[0msm\u001b[0m\u001b[1;33m)\u001b[0m\u001b[1;33m\u001b[0m\u001b[1;33m\u001b[0m\u001b[0m\n",
      "\u001b[1;31mTypeError\u001b[0m: unsupported operand type(s) for +: 'int' and 'dict'"
     ]
    }
   ],
   "source": [
    "ahhd(2,4,q={\"math\" : 50, \"physics\" : 80, \"biology\" : 90, \"computer\" : 67})"
   ]
  },
  {
   "cell_type": "code",
   "execution_count": null,
   "metadata": {},
   "outputs": [],
   "source": []
  },
  {
   "cell_type": "code",
   "execution_count": null,
   "metadata": {},
   "outputs": [],
   "source": []
  }
 ],
 "metadata": {
  "kernelspec": {
   "display_name": "Python 3",
   "language": "python",
   "name": "python3"
  },
  "language_info": {
   "codemirror_mode": {
    "name": "ipython",
    "version": 3
   },
   "file_extension": ".py",
   "mimetype": "text/x-python",
   "name": "python",
   "nbconvert_exporter": "python",
   "pygments_lexer": "ipython3",
   "version": "3.7.4"
  }
 },
 "nbformat": 4,
 "nbformat_minor": 2
}
